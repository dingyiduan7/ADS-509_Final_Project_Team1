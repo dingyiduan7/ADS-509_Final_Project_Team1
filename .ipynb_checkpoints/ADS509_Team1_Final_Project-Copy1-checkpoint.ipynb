{
 "cells": [
  {
   "cell_type": "markdown",
   "id": "e5622adf",
   "metadata": {},
   "source": [
    "# ADS 509 Team 1 Final Project\n",
    "\n",
    "## Sentiment Analysis on Crypto Currencies"
   ]
  },
  {
   "cell_type": "code",
   "execution_count": 1,
   "id": "23b6392c",
   "metadata": {},
   "outputs": [],
   "source": [
    "# import some necessary libraries\n",
    "\n",
    "#!pip install psaw\n",
    "import os\n",
    "import datetime as dt\n",
    "import re\n",
    "import pandas as pd\n",
    "import numpy as np"
   ]
  },
  {
   "cell_type": "code",
   "execution_count": 2,
   "id": "d0296c85",
   "metadata": {},
   "outputs": [],
   "source": [
    "import tweepy"
   ]
  },
  {
   "cell_type": "code",
   "execution_count": 3,
   "id": "23d64cef",
   "metadata": {},
   "outputs": [],
   "source": [
    "from api_keys import api_key, api_key_secret, bearer_token\n",
    "client = tweepy.Client(bearer_token,wait_on_rate_limit=True)"
   ]
  },
  {
   "cell_type": "code",
   "execution_count": 24,
   "id": "2eba5449",
   "metadata": {},
   "outputs": [
    {
     "name": "stdout",
     "output_type": "stream",
     "text": [
      "100\n",
      "200\n",
      "299\n",
      "399\n",
      "499\n",
      "599\n",
      "699\n",
      "799\n",
      "899\n",
      "999\n",
      "1098\n",
      "1198\n",
      "1298\n",
      "1397\n",
      "1497\n",
      "1596\n",
      "1696\n",
      "1796\n",
      "1895\n",
      "1995\n",
      "2095\n",
      "2194\n",
      "2294\n",
      "2394\n",
      "2493\n",
      "2592\n",
      "2691\n",
      "2791\n",
      "2890\n",
      "2989\n",
      "3085\n",
      "3181\n",
      "3195\n"
     ]
    }
   ],
   "source": [
    "n = 0\n",
    "for responses in tweepy.Paginator(client.get_users_tweets,\n",
    "                              \"357312062\",\n",
    "                              max_results=100):\n",
    "    if responses.data is None: continue\n",
    "    n+=len(responses.data)\n",
    "    print(n)"
   ]
  },
  {
   "cell_type": "code",
   "execution_count": 31,
   "id": "2683843b",
   "metadata": {},
   "outputs": [
    {
     "name": "stdout",
     "output_type": "stream",
     "text": [
      "The tweet is:\n",
      "\n",
      " RT @gaborgurbacs: 1/ I just published The Investment Case for #Bitcoin. See the @vaneck_us blog + slides at below link. \n",
      "Outline + tweetsto… \n",
      "\n",
      "The tweet is:\n",
      "\n",
      " RT @SouthPark: Watch the full episode - https://t.co/oktKSJdI9i\n",
      "\n",
      "@THR article - https://t.co/nXrtmnwCJB https://t.co/Xj5a1yE2eL \n",
      "\n",
      "The tweet is:\n",
      "\n",
      " RT @BitcoinCorePRs: Tomorrow's Bitcoin Core PR review is on PR 16939 \"Delay querying DNS seeds if addrman is populated (p2p)\" hosted by @jf… \n",
      "\n",
      "The tweet is:\n",
      "\n",
      " RT @NickSzabo4: Trusted third parties are lawyer magnets.\n",
      "\n",
      "https://t.co/VMRN7SG31K https://t.co/yZ37mQSvYG \n",
      "\n",
      "The tweet is:\n",
      "\n",
      " RT @saifedean: Want to learn economics from first principles? My ECO11: Principles of Economics course is based on the work of the great Au… \n",
      "\n",
      "The tweet is:\n",
      "\n",
      " The History of #Bitcoin has been very windy over the last decade. https://t.co/fqgoD3u7pf\n",
      "\n",
      "Which date(s) are most important to you? Why? Where were you and what were you doing? https://t.co/rmXjIEFwJj \n",
      "\n",
      "The tweet is:\n",
      "\n",
      " We have a highly correlated &amp; cointegrated relationship between @wences &amp; the $BTC!! @100trillionUSD https://t.co/4LzyxJltuI \n",
      "\n",
      "The tweet is:\n",
      "\n",
      " Portability, immutability, censorship-resistance and extensibility are cool concepts.\n",
      "\n",
      "And applying them all with provable scarcity... wow! #Bitcoin https://t.co/mqfms51pU9 \n",
      "\n",
      "The tweet is:\n",
      "\n",
      " RT @NickSzabo4: Probably the biggest flaw with the monetary metals (gold, sil er, and copper) is that they are costly to assay/validate. Th… \n",
      "\n",
      "The tweet is:\n",
      "\n",
      " RT @robustus: @danheld Best BTC dips to buy in hindsight:\n",
      "\n",
      "Nov 2011, \"btc is dead\": $2\n",
      "Aug 2012, pirateat40: $7 \n",
      "Mar 2013, fork: $37\n",
      "Apr 20… \n",
      "\n",
      "The tweet is:\n",
      "\n",
      " RT @CaitlinLong_: After years of underfunding its pension plan, this move is long overdue. What many folks missed about GE’s great run of ~… \n",
      "\n",
      "The tweet is:\n",
      "\n",
      " 'Neither a borrower nor a lender be.' - Shakespeare's Hamlet\n",
      "\n",
      "Most people's pensions consist largely of debt instruments. Ever tried to collect from a deadbeat debtor?\n",
      "\n",
      "As of June 30th, GE's debt was $105.8B.\n",
      "\n",
      "Sounds unsafe &amp; reckless? Got #Bitcoin?\n",
      "\n",
      "https://t.co/ueEH7anaeA https://t.co/s8ZYO0q3O0 \n",
      "\n",
      "The tweet is:\n",
      "\n",
      " RT @FullyNoded: Whats that? \n",
      "\n",
      "A one click desktop app that installs Tor/Bitcoin Core for you, generates a hidden service that controls your… \n",
      "\n",
      "The tweet is:\n",
      "\n",
      " Recently:\n",
      "\n",
      "1. Turkey froze 3m+ bank accounts.\n",
      "2. Hong Kong ATM withdrawals restricted.\n",
      "3. Reserve Bank of India ordered PMC Bank to restrict withdrawals to not exceed Rs 1000 ($USD 14).\n",
      "4. @ecb will ‘restart’ quantitative easing measures.\n",
      "\n",
      "Why would someone not have some $BTC? https://t.co/SPnLLTWtaQ \n",
      "\n"
     ]
    }
   ],
   "source": [
    "for i in range(len(responses.data)):\n",
    "       print(\"The tweet is:\\n\\n\", responses.data[i],\"\\n\")"
   ]
  },
  {
   "cell_type": "code",
   "execution_count": 27,
   "id": "d85fd087",
   "metadata": {},
   "outputs": [
    {
     "data": {
      "text/plain": [
       "list"
      ]
     },
     "execution_count": 27,
     "metadata": {},
     "output_type": "execute_result"
    }
   ],
   "source": [
    "type(responses.data)"
   ]
  }
 ],
 "metadata": {
  "kernelspec": {
   "display_name": "Python 3",
   "language": "python",
   "name": "python3"
  },
  "language_info": {
   "codemirror_mode": {
    "name": "ipython",
    "version": 3
   },
   "file_extension": ".py",
   "mimetype": "text/x-python",
   "name": "python",
   "nbconvert_exporter": "python",
   "pygments_lexer": "ipython3",
   "version": "3.8.8"
  }
 },
 "nbformat": 4,
 "nbformat_minor": 5
}
