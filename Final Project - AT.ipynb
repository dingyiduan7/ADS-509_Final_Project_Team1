{
 "cells": [
  {
   "cell_type": "markdown",
   "id": "56187d0f",
   "metadata": {},
   "source": [
    "# Twitter API Pull"
   ]
  },
  {
   "cell_type": "code",
   "execution_count": 1,
   "id": "2f5c1504",
   "metadata": {},
   "outputs": [],
   "source": [
    "import pandas as pd\n",
    "import tweepy\n",
    "import os\n",
    "import datetime\n",
    "import re\n",
    "from pprint import pprint\n",
    "\n",
    "import requests\n",
    "import time\n",
    "from bs4 import BeautifulSoup\n",
    "from collections import defaultdict, Counter"
   ]
  },
  {
   "cell_type": "code",
   "execution_count": 2,
   "id": "2bedd112",
   "metadata": {},
   "outputs": [],
   "source": [
    "from api_keys import api_key, api_key_secret, bearer_token"
   ]
  },
  {
   "cell_type": "code",
   "execution_count": 3,
   "id": "91ab7972",
   "metadata": {},
   "outputs": [],
   "source": [
    "client = tweepy.Client(bearer_token,wait_on_rate_limit=True)"
   ]
  },
  {
   "cell_type": "code",
   "execution_count": 4,
   "id": "1ac5d80f",
   "metadata": {},
   "outputs": [],
   "source": [
    "handles = [\"Bitcoin\", \"ethereum\", \"Cardano\", \"dogecoin\", \"ShibainuCoin\"]\n",
    "tweets_data = dict()"
   ]
  },
  {
   "cell_type": "code",
   "execution_count": 5,
   "id": "349c0f1d",
   "metadata": {},
   "outputs": [],
   "source": [
    "for handle in handles :\n",
    "    tweets_data[handle] = []\n",
    "    user_obj = client.get_user(username=handle)"
   ]
  },
  {
   "cell_type": "code",
   "execution_count": 6,
   "id": "9e39d4d3",
   "metadata": {},
   "outputs": [
    {
     "name": "stdout",
     "output_type": "stream",
     "text": [
      "1 pulls completed for Bitcoin\n",
      "2 pulls completed for Bitcoin\n",
      "3 pulls completed for Bitcoin\n",
      "4 pulls completed for Bitcoin\n",
      "5 pulls completed for Bitcoin\n",
      "6 pulls completed for Bitcoin\n",
      "7 pulls completed for Bitcoin\n",
      "8 pulls completed for Bitcoin\n",
      "9 pulls completed for Bitcoin\n",
      "10 pulls completed for Bitcoin\n",
      "11 pulls completed for Bitcoin\n",
      "1 pulls completed for ethereum\n",
      "2 pulls completed for ethereum\n",
      "3 pulls completed for ethereum\n",
      "4 pulls completed for ethereum\n",
      "5 pulls completed for ethereum\n",
      "6 pulls completed for ethereum\n",
      "7 pulls completed for ethereum\n",
      "8 pulls completed for ethereum\n",
      "9 pulls completed for ethereum\n",
      "10 pulls completed for ethereum\n",
      "11 pulls completed for ethereum\n",
      "1 pulls completed for Cardano\n",
      "2 pulls completed for Cardano\n",
      "3 pulls completed for Cardano\n",
      "4 pulls completed for Cardano\n",
      "5 pulls completed for Cardano\n",
      "6 pulls completed for Cardano\n",
      "7 pulls completed for Cardano\n",
      "8 pulls completed for Cardano\n",
      "9 pulls completed for Cardano\n",
      "10 pulls completed for Cardano\n",
      "11 pulls completed for Cardano\n",
      "1 pulls completed for dogecoin\n",
      "2 pulls completed for dogecoin\n",
      "3 pulls completed for dogecoin\n",
      "4 pulls completed for dogecoin\n",
      "5 pulls completed for dogecoin\n",
      "6 pulls completed for dogecoin\n",
      "7 pulls completed for dogecoin\n",
      "8 pulls completed for dogecoin\n",
      "9 pulls completed for dogecoin\n",
      "10 pulls completed for dogecoin\n",
      "1 pulls completed for ShibainuCoin\n",
      "2 pulls completed for ShibainuCoin\n",
      "3 pulls completed for ShibainuCoin\n",
      "4 pulls completed for ShibainuCoin\n",
      "5 pulls completed for ShibainuCoin\n",
      "6 pulls completed for ShibainuCoin\n",
      "7 pulls completed for ShibainuCoin\n",
      "8 pulls completed for ShibainuCoin\n",
      "0:00:20.214367\n"
     ]
    }
   ],
   "source": [
    "max_pulls = 11\n",
    "\n",
    "whitespace_pattern = re.compile(r\"\\s+\")\n",
    "\n",
    "for handle in handles :\n",
    "    tweets_data[handle] = []\n",
    "\n",
    "start_time = datetime.datetime.now()\n",
    "\n",
    "for handle in handles:\n",
    "    pulls = 0\n",
    "\n",
    "    tweets_output = handle + \"_tweets.txt\"\n",
    "    user_obj = client.get_user(username=handle)\n",
    "    \n",
    "    for response in tweepy.Paginator(\n",
    "                                    client.get_users_tweets,\n",
    "                                    user_obj.data.id,\n",
    "                                    max_results=100):\n",
    "        \n",
    "        print(pulls+1, \"pulls completed for\", handle)\n",
    "        pulls += 1\n",
    "\n",
    "        for tws in response.data:\n",
    "            tweets_data[handle].append(tws.text)\n",
    "            \n",
    "        if 'next_token' in response.meta and pulls < max_pulls :\n",
    "            next_token = response.meta['next_token']\n",
    "        else : \n",
    "            break\n",
    "\n",
    "    pd.DataFrame(tweets_data[handle]).to_csv(os.getcwd() + '\\\\twitter\\\\' + tweets_output, index=False, sep='\\t')\n",
    "\n",
    "end_time = datetime.datetime.now()\n",
    "print(end_time - start_time)"
   ]
  },
  {
   "cell_type": "code",
   "execution_count": 7,
   "id": "c287c1eb",
   "metadata": {},
   "outputs": [],
   "source": [
    "bitcoin = pd.read_csv(os.getcwd() + '\\\\twitter\\\\' + 'Bitcoin_tweets.txt', sep='\\t')\n",
    "ethereum = pd.read_csv(os.getcwd() + '\\\\twitter\\\\' + 'ethereum_tweets.txt', sep='\\t')\n",
    "cardano = pd.read_csv(os.getcwd() + '\\\\twitter\\\\' + 'Cardano_tweets.txt', sep='\\t')\n",
    "dogecoin = pd.read_csv(os.getcwd() + '\\\\twitter\\\\' + 'dogecoin_tweets.txt', sep='\\t')\n",
    "shibainucoin = pd.read_csv(os.getcwd() + '\\\\twitter\\\\' + 'ShibainuCoin_tweets.txt', sep='\\t')"
   ]
  },
  {
   "cell_type": "code",
   "execution_count": 8,
   "id": "e7a034bb",
   "metadata": {},
   "outputs": [],
   "source": [
    "bitcoin.columns = ['tweets']\n",
    "ethereum.columns = ['tweets']\n",
    "cardano.columns = ['tweets']\n",
    "dogecoin.columns = ['tweets']\n",
    "shibainucoin.columns = ['tweets']"
   ]
  },
  {
   "cell_type": "code",
   "execution_count": 9,
   "id": "4d638507",
   "metadata": {},
   "outputs": [
    {
     "name": "stdout",
     "output_type": "stream",
     "text": [
      "(1098, 1)\n"
     ]
    },
    {
     "data": {
      "text/html": [
       "<div>\n",
       "<style scoped>\n",
       "    .dataframe tbody tr th:only-of-type {\n",
       "        vertical-align: middle;\n",
       "    }\n",
       "\n",
       "    .dataframe tbody tr th {\n",
       "        vertical-align: top;\n",
       "    }\n",
       "\n",
       "    .dataframe thead th {\n",
       "        text-align: right;\n",
       "    }\n",
       "</style>\n",
       "<table border=\"1\" class=\"dataframe\">\n",
       "  <thead>\n",
       "    <tr style=\"text-align: right;\">\n",
       "      <th></th>\n",
       "      <th>tweets</th>\n",
       "    </tr>\n",
       "  </thead>\n",
       "  <tbody>\n",
       "    <tr>\n",
       "      <th>0</th>\n",
       "      <td>https://t.co/9xJWYwypPM</td>\n",
       "    </tr>\n",
       "    <tr>\n",
       "      <th>1</th>\n",
       "      <td>A whopping $14m of short liquidations. https:/...</td>\n",
       "    </tr>\n",
       "    <tr>\n",
       "      <th>2</th>\n",
       "      <td>https://t.co/2hsh3GpR8L</td>\n",
       "    </tr>\n",
       "  </tbody>\n",
       "</table>\n",
       "</div>"
      ],
      "text/plain": [
       "                                              tweets\n",
       "0                            https://t.co/9xJWYwypPM\n",
       "1  A whopping $14m of short liquidations. https:/...\n",
       "2                            https://t.co/2hsh3GpR8L"
      ]
     },
     "execution_count": 9,
     "metadata": {},
     "output_type": "execute_result"
    }
   ],
   "source": [
    "print(bitcoin.shape)\n",
    "bitcoin.head(3)"
   ]
  },
  {
   "cell_type": "code",
   "execution_count": 10,
   "id": "bf168a98",
   "metadata": {},
   "outputs": [
    {
     "name": "stdout",
     "output_type": "stream",
     "text": [
      "(1100, 1)\n"
     ]
    },
    {
     "data": {
      "text/html": [
       "<div>\n",
       "<style scoped>\n",
       "    .dataframe tbody tr th:only-of-type {\n",
       "        vertical-align: middle;\n",
       "    }\n",
       "\n",
       "    .dataframe tbody tr th {\n",
       "        vertical-align: top;\n",
       "    }\n",
       "\n",
       "    .dataframe thead th {\n",
       "        text-align: right;\n",
       "    }\n",
       "</style>\n",
       "<table border=\"1\" class=\"dataframe\">\n",
       "  <thead>\n",
       "    <tr style=\"text-align: right;\">\n",
       "      <th></th>\n",
       "      <th>tweets</th>\n",
       "    </tr>\n",
       "  </thead>\n",
       "  <tbody>\n",
       "    <tr>\n",
       "      <th>0</th>\n",
       "      <td>RT @ChipotleTweets: Ethereum’s recent move to ...</td>\n",
       "    </tr>\n",
       "    <tr>\n",
       "      <th>1</th>\n",
       "      <td>RT @WeekInEthNews: Latest Week in Ethereum New...</td>\n",
       "    </tr>\n",
       "    <tr>\n",
       "      <th>2</th>\n",
       "      <td>RT @trent_vanepps: 1/ For the past ~6 months, ...</td>\n",
       "    </tr>\n",
       "  </tbody>\n",
       "</table>\n",
       "</div>"
      ],
      "text/plain": [
       "                                              tweets\n",
       "0  RT @ChipotleTweets: Ethereum’s recent move to ...\n",
       "1  RT @WeekInEthNews: Latest Week in Ethereum New...\n",
       "2  RT @trent_vanepps: 1/ For the past ~6 months, ..."
      ]
     },
     "execution_count": 10,
     "metadata": {},
     "output_type": "execute_result"
    }
   ],
   "source": [
    "print(ethereum.shape)\n",
    "ethereum.head(3)"
   ]
  },
  {
   "cell_type": "code",
   "execution_count": 11,
   "id": "4a305ce9",
   "metadata": {},
   "outputs": [
    {
     "name": "stdout",
     "output_type": "stream",
     "text": [
      "(1096, 1)\n"
     ]
    },
    {
     "data": {
      "text/html": [
       "<div>\n",
       "<style scoped>\n",
       "    .dataframe tbody tr th:only-of-type {\n",
       "        vertical-align: middle;\n",
       "    }\n",
       "\n",
       "    .dataframe tbody tr th {\n",
       "        vertical-align: top;\n",
       "    }\n",
       "\n",
       "    .dataframe thead th {\n",
       "        text-align: right;\n",
       "    }\n",
       "</style>\n",
       "<table border=\"1\" class=\"dataframe\">\n",
       "  <thead>\n",
       "    <tr style=\"text-align: right;\">\n",
       "      <th></th>\n",
       "      <th>tweets</th>\n",
       "    </tr>\n",
       "  </thead>\n",
       "  <tbody>\n",
       "    <tr>\n",
       "      <th>0</th>\n",
       "      <td>RT @timbharrison: And there we have it. New le...</td>\n",
       "    </tr>\n",
       "    <tr>\n",
       "      <th>1</th>\n",
       "      <td>RT @F_Gregaard: Happy 5th anniversary #Cardano...</td>\n",
       "    </tr>\n",
       "    <tr>\n",
       "      <th>2</th>\n",
       "      <td>RT @CardanoStiftung: 🎉Today we celebrate anoth...</td>\n",
       "    </tr>\n",
       "  </tbody>\n",
       "</table>\n",
       "</div>"
      ],
      "text/plain": [
       "                                              tweets\n",
       "0  RT @timbharrison: And there we have it. New le...\n",
       "1  RT @F_Gregaard: Happy 5th anniversary #Cardano...\n",
       "2  RT @CardanoStiftung: 🎉Today we celebrate anoth..."
      ]
     },
     "execution_count": 11,
     "metadata": {},
     "output_type": "execute_result"
    }
   ],
   "source": [
    "print(cardano.shape)\n",
    "cardano.head(3)"
   ]
  },
  {
   "cell_type": "code",
   "execution_count": 12,
   "id": "7182e6f7",
   "metadata": {},
   "outputs": [
    {
     "name": "stdout",
     "output_type": "stream",
     "text": [
      "(957, 1)\n"
     ]
    },
    {
     "data": {
      "text/html": [
       "<div>\n",
       "<style scoped>\n",
       "    .dataframe tbody tr th:only-of-type {\n",
       "        vertical-align: middle;\n",
       "    }\n",
       "\n",
       "    .dataframe tbody tr th {\n",
       "        vertical-align: top;\n",
       "    }\n",
       "\n",
       "    .dataframe thead th {\n",
       "        text-align: right;\n",
       "    }\n",
       "</style>\n",
       "<table border=\"1\" class=\"dataframe\">\n",
       "  <thead>\n",
       "    <tr style=\"text-align: right;\">\n",
       "      <th></th>\n",
       "      <th>tweets</th>\n",
       "    </tr>\n",
       "  </thead>\n",
       "  <tbody>\n",
       "    <tr>\n",
       "      <th>0</th>\n",
       "      <td>Much congratz to @VitalikButerin and everyone ...</td>\n",
       "    </tr>\n",
       "    <tr>\n",
       "      <th>1</th>\n",
       "      <td>The @DogecoinFdn has partnered with @MyDogeOff...</td>\n",
       "    </tr>\n",
       "    <tr>\n",
       "      <th>2</th>\n",
       "      <td>👀  https://t.co/7FCrf7S2Q3 https://t.co/jX6usv...</td>\n",
       "    </tr>\n",
       "  </tbody>\n",
       "</table>\n",
       "</div>"
      ],
      "text/plain": [
       "                                              tweets\n",
       "0  Much congratz to @VitalikButerin and everyone ...\n",
       "1  The @DogecoinFdn has partnered with @MyDogeOff...\n",
       "2  👀  https://t.co/7FCrf7S2Q3 https://t.co/jX6usv..."
      ]
     },
     "execution_count": 12,
     "metadata": {},
     "output_type": "execute_result"
    }
   ],
   "source": [
    "print(dogecoin.shape)\n",
    "dogecoin.head(3)"
   ]
  },
  {
   "cell_type": "code",
   "execution_count": 13,
   "id": "17ce00e7",
   "metadata": {},
   "outputs": [
    {
     "name": "stdout",
     "output_type": "stream",
     "text": [
      "(770, 1)\n"
     ]
    },
    {
     "data": {
      "text/html": [
       "<div>\n",
       "<style scoped>\n",
       "    .dataframe tbody tr th:only-of-type {\n",
       "        vertical-align: middle;\n",
       "    }\n",
       "\n",
       "    .dataframe tbody tr th {\n",
       "        vertical-align: top;\n",
       "    }\n",
       "\n",
       "    .dataframe thead th {\n",
       "        text-align: right;\n",
       "    }\n",
       "</style>\n",
       "<table border=\"1\" class=\"dataframe\">\n",
       "  <thead>\n",
       "    <tr style=\"text-align: right;\">\n",
       "      <th></th>\n",
       "      <th>tweets</th>\n",
       "    </tr>\n",
       "  </thead>\n",
       "  <tbody>\n",
       "    <tr>\n",
       "      <th>0</th>\n",
       "      <td>Despite the crypto market’s sluggish condition...</td>\n",
       "    </tr>\n",
       "    <tr>\n",
       "      <th>1</th>\n",
       "      <td>Over the past 3 days, more than 4.5 trillion $...</td>\n",
       "    </tr>\n",
       "    <tr>\n",
       "      <th>2</th>\n",
       "      <td>Awesome! A gift in the bear market 🎁. YES, ple...</td>\n",
       "    </tr>\n",
       "  </tbody>\n",
       "</table>\n",
       "</div>"
      ],
      "text/plain": [
       "                                              tweets\n",
       "0  Despite the crypto market’s sluggish condition...\n",
       "1  Over the past 3 days, more than 4.5 trillion $...\n",
       "2  Awesome! A gift in the bear market 🎁. YES, ple..."
      ]
     },
     "execution_count": 13,
     "metadata": {},
     "output_type": "execute_result"
    }
   ],
   "source": [
    "print(shibainucoin.shape)\n",
    "shibainucoin.head(3)"
   ]
  },
  {
   "cell_type": "markdown",
   "id": "36584800",
   "metadata": {},
   "source": [
    "---"
   ]
  }
 ],
 "metadata": {
  "kernelspec": {
   "display_name": "Python 3",
   "language": "python",
   "name": "python3"
  },
  "language_info": {
   "codemirror_mode": {
    "name": "ipython",
    "version": 3
   },
   "file_extension": ".py",
   "mimetype": "text/x-python",
   "name": "python",
   "nbconvert_exporter": "python",
   "pygments_lexer": "ipython3",
   "version": "3.8.8"
  }
 },
 "nbformat": 4,
 "nbformat_minor": 5
}
